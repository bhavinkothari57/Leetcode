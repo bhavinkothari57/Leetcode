{
 "cells": [
  {
   "cell_type": "code",
   "execution_count": 50,
   "metadata": {},
   "outputs": [
    {
     "name": "stdout",
     "output_type": "stream",
     "text": [
      "[1, 2]\n",
      "-1\n"
     ]
    }
   ],
   "source": [
    "n = 12\n",
    "k = 3\n",
    "factors = []\n",
    "\n",
    "import math\n",
    "\n",
    "for i in range(1, int(math.sqrt(n))):\n",
    "    if (n%(i) == 0):\n",
    "        factors.append(i)\n",
    "        \n",
    "print(factors)\n",
    "#print(len(factors))\n",
    "if len(factors)<k:\n",
    "    print(-1)\n",
    "else:\n",
    "    print(factors[k-1])"
   ]
  },
  {
   "cell_type": "code",
   "execution_count": null,
   "metadata": {},
   "outputs": [],
   "source": [
    "12 3\n",
    "7 2\n",
    "4 4"
   ]
  },
  {
   "cell_type": "code",
   "execution_count": 71,
   "metadata": {},
   "outputs": [],
   "source": [
    "import math\n",
    "\n",
    "class Solution:\n",
    "    def kthFactor(self, n: int, k: int) -> int:\n",
    "        root = int(math.sqrt(n))\n",
    "        small = []\n",
    "        big = []\n",
    "        \n",
    "        print(root+)\n",
    "        for i in range(1, root + 1):\n",
    "            if n % i == 0:\n",
    "                small.append(i)\n",
    "                print(i)\n",
    "                if i ** 2 != n:\n",
    "                    big.append(n // i)\n",
    "                    print(n//i)\n",
    "        if len(small) + len(big) < k:\n",
    "            return -1\n",
    "        if k > len(small):\n",
    "            return big[len(big) - (k - len(small))]\n",
    "        else:\n",
    "            return small[k - 1]\n",
    "        \n",
    "        print(small)\n",
    "        print(big)"
   ]
  },
  {
   "cell_type": "code",
   "execution_count": 75,
   "metadata": {},
   "outputs": [
    {
     "name": "stdout",
     "output_type": "stream",
     "text": [
      "4\n",
      "1\n",
      "12\n",
      "2\n",
      "6\n",
      "3\n",
      "4\n",
      "3\n"
     ]
    }
   ],
   "source": [
    "a = Solution()\n",
    "b = a.kthFactor(12,3)\n",
    "print(b)\n"
   ]
  },
  {
   "cell_type": "code",
   "execution_count": 26,
   "metadata": {},
   "outputs": [
    {
     "name": "stdout",
     "output_type": "stream",
     "text": [
      "25\n"
     ]
    }
   ],
   "source": [
    "print(5**2)"
   ]
  },
  {
   "cell_type": "code",
   "execution_count": 42,
   "metadata": {},
   "outputs": [
    {
     "name": "stdout",
     "output_type": "stream",
     "text": [
      "3\n"
     ]
    }
   ],
   "source": [
    "print(int(3.000001))"
   ]
  },
  {
   "cell_type": "code",
   "execution_count": 81,
   "metadata": {},
   "outputs": [
    {
     "name": "stdout",
     "output_type": "stream",
     "text": [
      "6\n",
      "6.333333333333333\n"
     ]
    }
   ],
   "source": [
    "print(19//3)\n",
    "print(19/3)"
   ]
  },
  {
   "cell_type": "code",
   "execution_count": 53,
   "metadata": {},
   "outputs": [
    {
     "name": "stdout",
     "output_type": "stream",
     "text": [
      "[1, 2, 5, 3, 8]\n",
      "None\n"
     ]
    }
   ],
   "source": [
    "v= [1,2,5,3,8]\n",
    "print(v.sort(reverse = Tr))"
   ]
  },
  {
   "cell_type": "code",
   "execution_count": 59,
   "metadata": {},
   "outputs": [
    {
     "name": "stdout",
     "output_type": "stream",
     "text": [
      "3\n"
     ]
    }
   ],
   "source": [
    "# Python3 program to find the K-th \n",
    "# smallest factor\n",
    "import math as mt\n",
    "\n",
    "# Function to find the k'th divisor\n",
    "def findkth (n, k):\n",
    "\n",
    "\t# initialize vectors v1 and v2\n",
    "\tv1 = list()\n",
    "\tv2 = list()\n",
    "\t\n",
    "\t# store all the divisors in the \n",
    "\t# two vectors accordingly\n",
    "\tfor i in range(1, mt.ceil(n**(.5))):\n",
    "\t\n",
    "\t\tif (n % i == 0):\n",
    "\t\t\n",
    "\t\t\tv1.append(i)\n",
    "\t\t\t\n",
    "\t\t\tif (i != mt.ceil(mt.sqrt(n))):\n",
    "\t\t\t\tv2.append(n // i)\n",
    "\t\t\n",
    "\t# reverse the vector v2 to sort it\n",
    "\t# in increasing order\n",
    "\tv2[::-1]\n",
    "\t\n",
    "\t# if k is greater than the size of vectors \n",
    "\t# then no divisor can be possible\n",
    "\tif ( k > (len(v1) + len(v2))):\n",
    "\t\tprint(\"Doesn't Exist\", end = \"\")\n",
    "\t\t\n",
    "\t# else print the ( k - 1 )th value of vector \n",
    "\telse:\n",
    "\t\n",
    "\t\t# If K is lying in first vector\n",
    "\t\tif(k <= len(v1)):\n",
    "\t\t\tprint(v1[k - 1])\n",
    "\t\t\t\n",
    "\t\t# If K is lying in second vector\n",
    "\t\telse:\n",
    "\t\t\tprint(v2[k - len(v1) - 1])\n",
    "\t\n",
    "# Driver code\n",
    "n = 15\n",
    "k = 2\n",
    "findkth (n, k) \n",
    "\n",
    "# This code is contributed by Mohit kumar\n"
   ]
  },
  {
   "cell_type": "code",
   "execution_count": null,
   "metadata": {},
   "outputs": [],
   "source": []
  },
  {
   "cell_type": "code",
   "execution_count": 132,
   "metadata": {},
   "outputs": [],
   "source": [
    "class Solution:\n",
    "    def kthFactor(self, n: int, k: int) -> int:\n",
    "        \n",
    "        cur_factor_count = 0\n",
    "        \n",
    "        for i in range(1, 1+(n//2)):\n",
    "            if (n % i == 0):\n",
    "                cur_factor_count+=1\n",
    "            \n",
    "            if(cur_factor_count == k):\n",
    "                return i\n",
    "        \n",
    "        \n",
    "        if(cur_factor_count + 1 == k):\n",
    "            return n\n",
    "        \n",
    "        return -1"
   ]
  },
  {
   "cell_type": "code",
   "execution_count": 135,
   "metadata": {},
   "outputs": [
    {
     "name": "stdout",
     "output_type": "stream",
     "text": [
      "7\n"
     ]
    }
   ],
   "source": [
    "a = Solution()\n",
    "b = a.kthFactor(7,2)\n",
    "print(b)"
   ]
  },
  {
   "cell_type": "code",
   "execution_count": null,
   "metadata": {},
   "outputs": [],
   "source": []
  },
  {
   "cell_type": "code",
   "execution_count": null,
   "metadata": {},
   "outputs": [],
   "source": []
  },
  {
   "cell_type": "code",
   "execution_count": 130,
   "metadata": {},
   "outputs": [],
   "source": [
    "class Boi:\n",
    "    dic = 1\n",
    "    def biggusDiccus (self, x):\n",
    "        self.dic += x\n",
    "        print(self.dic)\n",
    "            \n",
    "    def __str__(self): \n",
    "        print('='*self.dic+'D')\n",
    "\n",
    "\n",
    "#Ok so imagine you made 3 objects of the class:\n",
    "#a, b and c.\n",
    "\n",
    "#And called biggusDiccus on all 3 with like different values of x.\n",
    "\n",
    "\n",
    "\n",
    "#So the 'self' parameter that was passed in the three lines above were the references of a, b and c\n",
    "\n",
    "\n",
    "#play around the the biggusDiccus function and then print the object like: print(a)"
   ]
  },
  {
   "cell_type": "code",
   "execution_count": 131,
   "metadata": {},
   "outputs": [
    {
     "name": "stdout",
     "output_type": "stream",
     "text": [
      "2\n",
      "==D\n",
      "3\n",
      "===D\n",
      "4\n",
      "====D\n"
     ]
    }
   ],
   "source": [
    "a = Boi()\n",
    "a.biggusDiccus(1)\n",
    "a.__str__()\n",
    "#Boi.__str__()\n",
    "b = Boi()\n",
    "b.biggusDiccus(2)\n",
    "b.__str__()\n",
    "#Boi.__str__()\n",
    "c = Boi()\n",
    "c.biggusDiccus(3)\n",
    "c.__str__()\n",
    "#Boi.__str__()\n"
   ]
  },
  {
   "cell_type": "code",
   "execution_count": null,
   "metadata": {},
   "outputs": [],
   "source": []
  },
  {
   "cell_type": "code",
   "execution_count": null,
   "metadata": {},
   "outputs": [],
   "source": []
  }
 ],
 "metadata": {
  "kernelspec": {
   "display_name": "Python 3",
   "language": "python",
   "name": "python3"
  },
  "language_info": {
   "codemirror_mode": {
    "name": "ipython",
    "version": 3
   },
   "file_extension": ".py",
   "mimetype": "text/x-python",
   "name": "python",
   "nbconvert_exporter": "python",
   "pygments_lexer": "ipython3",
   "version": "3.7.3"
  }
 },
 "nbformat": 4,
 "nbformat_minor": 2
}
